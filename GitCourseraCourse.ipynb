{
 "cells": [
  {
   "attachments": {},
   "cell_type": "markdown",
   "metadata": {},
   "source": [
    "# Introduction to Git and GitHub"
   ]
  },
  {
   "attachments": {},
   "cell_type": "markdown",
   "metadata": {},
   "source": [
    "## Week 1\n",
    "\n",
    "[Pro Git][]: This book (available online and in print) covers all the fundamentals of how Git works and how to use it. Refer to it if you want to learn more about the subjects that we cover throughout the course.\n",
    "\n",
    "[Git tutorial][]: This tutorial includes a very brief reference of all Git commands available. You can use it to quickly review the commands that you need to use.\n",
    "\n",
    "[Pro Git]:https://git-scm.com/book/en/v2\n",
    "[Git tutorial]:https://git-scm.com/docs/gittutorial\n"
   ]
  },
  {
   "attachments": {},
   "cell_type": "markdown",
   "metadata": {},
   "source": [
    "### Installing Git\n",
    "\n",
    "* [Git download page](https://git-scm.com/downloads)\n",
    "* [Git installation instructions for each platform](https://git-scm.com/book/en/v2/Getting-Started-Installing-Git)\n",
    "\n"
   ]
  },
  {
   "attachments": {},
   "cell_type": "markdown",
   "metadata": {},
   "source": [
    "## Week 2"
   ]
  },
  {
   "cell_type": "markdown",
   "metadata": {},
   "source": [
    "## Week 3"
   ]
  }
 ],
 "metadata": {
  "kernelspec": {
   "display_name": "Riley",
   "language": "python",
   "name": "python3"
  },
  "language_info": {
   "name": "python",
   "version": "3.10.10"
  },
  "orig_nbformat": 4
 },
 "nbformat": 4,
 "nbformat_minor": 2
}
