{
 "cells": [
  {
   "attachments": {},
   "cell_type": "markdown",
   "metadata": {},
   "source": [
    "# Introduction to Git and GitHub"
   ]
  },
  {
   "attachments": {},
   "cell_type": "markdown",
   "metadata": {},
   "source": [
    "## Week 1\n",
    "\n",
    "[Pro Git][]: This book (available online and in print) covers all the fundamentals of how Git works and how to use it. Refer to it if you want to learn more about the subjects that we cover throughout the course.\n",
    "\n",
    "[Git tutorial][]: This tutorial includes a very brief reference of all Git commands available. You can use it to quickly review the commands that you need to use.\n",
    "\n",
    "[Pro Git]:https://git-scm.com/book/en/v2\n",
    "[Git tutorial]:https://git-scm.com/docs/gittutorial\n"
   ]
  },
  {
   "attachments": {},
   "cell_type": "markdown",
   "metadata": {},
   "source": [
    "### Installing Git\n",
    "\n",
    "* [Git download page](https://git-scm.com/downloads)\n",
    "* [Git installation instructions for each platform](https://git-scm.com/book/en/v2/Getting-Started-Installing-Git)\n",
    "\n"
   ]
  },
  {
   "attachments": {},
   "cell_type": "markdown",
   "metadata": {},
   "source": [
    "## Week 2"
   ]
  },
  {
   "cell_type": "markdown",
   "metadata": {},
   "source": [
    "## Rebasing and merginging features\n",
    "\n",
    "[Merging vs. Rebasing][]\n",
    "\n",
    "[Merging vs. Rebasing]:https://www.atlassian.com/git/tutorials/merging-vs-rebasing\n",
    "\n",
    "### Merging\n",
    "\n",
    "\n",
    "![](./images/merge-feature.jpg)\n",
    "\n",
    "\n",
    "### Rebase\n",
    "\n",
    "![](./images/rebase-feature.jpg/)\n",
    "\n",
    "\n",
    "### Workflow\n",
    "\n",
    "* The user ensures that the code on their local machine is synchronized\n",
    "with the latest commit from the remote master branch.\n",
    "\n",
    "```\n",
    "# With my local master branch checked out\n",
    "git pull\n",
    "```\n",
    "\n",
    "* Next, the user will check out a new branch to write and commit code,\n",
    "thereby keeping their work separated from the master branch.\n",
    "\n",
    "```\n",
    "git checkout -b my_cool_feature\n",
    "```\n",
    "\n",
    "* The user makes commits\n",
    "\n",
    "```\n",
    "git add .\n",
    "git commit -m 'This is a new commit, yay!'\n",
    "```\n",
    "* Now that the user has finished developing their feature, they want to merge their changes back into the remote master branch. To initiate this process, they switch back to the local master branch and perform a pull operation to fetch the latest changes. This ensures that their local machine is up to date with any new commits submitted by their teammates.\n",
    "\n",
    "```\n",
    "git checkout master\n",
    "git pull\n",
    "```\n",
    "\n",
    "* The user's next step is to ensure that their feature branch is compatible with any new changes from the remote master branch. To accomplish this, they check out their feature branch and perform a rebase operation against their local master branch. This action reestablishes their branch's base point to align with the latest changes they pulled from the remote master branch. During this process, Git will notify the user of any conflicts that may arise, allowing them to resolve these conflicts on their feature branch.\n",
    "\n",
    "```\n",
    "git checkout my_cool_feature\n",
    "git rebase master\n",
    "```\n",
    "\n",
    "* Now that the user's feature branch doesn't have any conflicts, they can switch back to their master branch and merge their changes into the master branch. By doing so, their changes will be incorporated into the master branch.\n",
    "\n",
    "```\n",
    "git checkout master\n",
    "git rebase my_cool_feature\n",
    "\n",
    "```\n",
    "\n",
    "* Since the user synchronized with the remote master branch before performing the rebase, they should be able to push their changes up to the remote master branch without encountering any issues. This is because their local branch is up to date with the latest commits from the remote repository.\n",
    "\n",
    "```\n",
    "git push\n",
    "\n",
    "```\n",
    "\n"
   ]
  }
 ],
 "metadata": {
  "kernelspec": {
   "display_name": "Riley",
   "language": "python",
   "name": "python3"
  },
  "language_info": {
   "name": "python",
   "version": "3.10.10"
  },
  "orig_nbformat": 4
 },
 "nbformat": 4,
 "nbformat_minor": 2
}
